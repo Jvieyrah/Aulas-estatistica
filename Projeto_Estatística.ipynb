{
 "cells": [
  {
   "cell_type": "markdown",
   "id": "fda519c0-dc07-4a23-8c3c-752bd1d56309",
   "metadata": {},
   "source": [
    "<div style=\"background-color: lightgreen; padding: 18px;\">\n",
    "    <h1> Projeto| Estatística I\n",
    "</div>"
   ]
  },
  {
   "cell_type": "markdown",
   "id": "d1ff0af2-0397-4f49-86ef-0f8d68d2844f",
   "metadata": {},
   "source": [
    "### Esse projeto visa a aplicação dos conceitos e ferramental da Estatística desenvolvidos nesse módulo"
   ]
  },
  {
   "cell_type": "markdown",
   "id": "beb81548-3d4c-4225-9821-0f18762d631a",
   "metadata": {},
   "source": [
    "#### Para o desenvolvimento das atividades abaixo, o seu grupo pode escolher qualquer dataset que contenha uma coluna com valores inteiros."
   ]
  },
  {
   "cell_type": "code",
   "execution_count": 1,
   "id": "1583b6d5-7780-4647-bc49-fcdb31b87842",
   "metadata": {},
   "outputs": [],
   "source": [
    "# Importação das bibliotecas\n",
    "import numpy as np\n",
    "import pandas as pd\n",
    "import matplotlib.pyplot as plt\n",
    "import seaborn as sns\n",
    "from scipy import stats\n",
    "import random"
   ]
  },
  {
   "cell_type": "markdown",
   "id": "7b7102fb-7e17-472a-b346-97bad8bcbbe8",
   "metadata": {},
   "source": [
    "__1) Em algum dataset, classifique as suas colunas em Quantitativa Discreta, Quantitiva Contínua, Qualitativa Ordinal ou Qualitativa Nominal.__\n"
   ]
  },
  {
   "cell_type": "code",
   "execution_count": 2,
   "id": "ecab1a38-b586-4900-8caa-cc88666d03da",
   "metadata": {},
   "outputs": [
    {
     "data": {
      "text/html": [
       "<div>\n",
       "<style scoped>\n",
       "    .dataframe tbody tr th:only-of-type {\n",
       "        vertical-align: middle;\n",
       "    }\n",
       "\n",
       "    .dataframe tbody tr th {\n",
       "        vertical-align: top;\n",
       "    }\n",
       "\n",
       "    .dataframe thead th {\n",
       "        text-align: right;\n",
       "    }\n",
       "</style>\n",
       "<table border=\"1\" class=\"dataframe\">\n",
       "  <thead>\n",
       "    <tr style=\"text-align: right;\">\n",
       "      <th></th>\n",
       "      <th>Unnamed: 0</th>\n",
       "      <th>Codigo</th>\n",
       "      <th>Nome</th>\n",
       "      <th>Preco R$</th>\n",
       "      <th>VolumeMedio</th>\n",
       "      <th>DividendYield %</th>\n",
       "      <th>PatrimonioLiq R$</th>\n",
       "      <th>P/VP</th>\n",
       "      <th>Cotas</th>\n",
       "      <th>Segmento</th>\n",
       "      <th>Valorizacao12Meses</th>\n",
       "    </tr>\n",
       "  </thead>\n",
       "  <tbody>\n",
       "    <tr>\n",
       "      <th>0</th>\n",
       "      <td>ABCP11</td>\n",
       "      <td>ABCP11</td>\n",
       "      <td>FDO INV IMOB GRAND PLAZA SHOPPING</td>\n",
       "      <td>99,78</td>\n",
       "      <td>4.519</td>\n",
       "      <td>0,44</td>\n",
       "      <td>910.000</td>\n",
       "      <td>1,35</td>\n",
       "      <td>1.000.000</td>\n",
       "      <td>Shoppings</td>\n",
       "      <td>0.15</td>\n",
       "    </tr>\n",
       "    <tr>\n",
       "      <th>1</th>\n",
       "      <td>AEFI11</td>\n",
       "      <td>AEFI11</td>\n",
       "      <td>AESAPAR FDO INV IMOB - FII</td>\n",
       "      <td>174,90</td>\n",
       "      <td>2.065</td>\n",
       "      <td>0,71</td>\n",
       "      <td>110.000</td>\n",
       "      <td>1,15</td>\n",
       "      <td>752.500</td>\n",
       "      <td>Outros</td>\n",
       "      <td>0.03</td>\n",
       "    </tr>\n",
       "    <tr>\n",
       "      <th>2</th>\n",
       "      <td>AGCX11</td>\n",
       "      <td>AGCX11</td>\n",
       "      <td>FDO INV IMOB AGÊNCIAS CAIXA - FII</td>\n",
       "      <td>1.235,50</td>\n",
       "      <td>240.000</td>\n",
       "      <td>0,69</td>\n",
       "      <td>430.000</td>\n",
       "      <td>1,16</td>\n",
       "      <td>405.000</td>\n",
       "      <td>Outros</td>\n",
       "      <td>0.00</td>\n",
       "    </tr>\n",
       "    <tr>\n",
       "      <th>3</th>\n",
       "      <td>ALZR11</td>\n",
       "      <td>ALZR11</td>\n",
       "      <td>ALIANZA TRUST RENDA IMOBILIARIA FDO INV IMOB</td>\n",
       "      <td>97,50</td>\n",
       "      <td>3.435</td>\n",
       "      <td>0,69</td>\n",
       "      <td>97.000</td>\n",
       "      <td>1,00</td>\n",
       "      <td>997.042</td>\n",
       "      <td>Outros</td>\n",
       "      <td>0.02</td>\n",
       "    </tr>\n",
       "    <tr>\n",
       "      <th>4</th>\n",
       "      <td>BBFI11B</td>\n",
       "      <td>BBFI11B</td>\n",
       "      <td>BB FDO INV IMOB PROGRESSIVO</td>\n",
       "      <td>2.388,00</td>\n",
       "      <td>144.000</td>\n",
       "      <td>1,04</td>\n",
       "      <td>400.000</td>\n",
       "      <td>0,78</td>\n",
       "      <td>130.000</td>\n",
       "      <td>Lajes Corporativas</td>\n",
       "      <td>0.14</td>\n",
       "    </tr>\n",
       "  </tbody>\n",
       "</table>\n",
       "</div>"
      ],
      "text/plain": [
       "  Unnamed: 0   Codigo                                          Nome   \n",
       "0     ABCP11   ABCP11             FDO INV IMOB GRAND PLAZA SHOPPING  \\\n",
       "1     AEFI11   AEFI11                    AESAPAR FDO INV IMOB - FII   \n",
       "2     AGCX11   AGCX11             FDO INV IMOB AGÊNCIAS CAIXA - FII   \n",
       "3     ALZR11   ALZR11  ALIANZA TRUST RENDA IMOBILIARIA FDO INV IMOB   \n",
       "4    BBFI11B  BBFI11B                   BB FDO INV IMOB PROGRESSIVO   \n",
       "\n",
       "    Preco R$  VolumeMedio DividendYield % PatrimonioLiq R$  P/VP      Cotas   \n",
       "0      99,78        4.519            0,44          910.000  1,35  1.000.000  \\\n",
       "1     174,90        2.065            0,71          110.000  1,15    752.500   \n",
       "2   1.235,50      240.000            0,69          430.000  1,16    405.000   \n",
       "3      97,50        3.435            0,69           97.000  1,00    997.042   \n",
       "4   2.388,00      144.000            1,04          400.000  0,78    130.000   \n",
       "\n",
       "             Segmento  Valorizacao12Meses  \n",
       "0           Shoppings                0.15  \n",
       "1              Outros                0.03  \n",
       "2              Outros                0.00  \n",
       "3              Outros                0.02  \n",
       "4  Lajes Corporativas                0.14  "
      ]
     },
     "execution_count": 2,
     "metadata": {},
     "output_type": "execute_result"
    }
   ],
   "source": [
    "fiis = pd.read_csv('./fii.csv', sep=';')\n",
    "\n",
    "fiis.head()"
   ]
  },
  {
   "cell_type": "code",
   "execution_count": 3,
   "id": "9ed08d42",
   "metadata": {},
   "outputs": [
    {
     "data": {
      "text/html": [
       "<div>\n",
       "<style scoped>\n",
       "    .dataframe tbody tr th:only-of-type {\n",
       "        vertical-align: middle;\n",
       "    }\n",
       "\n",
       "    .dataframe tbody tr th {\n",
       "        vertical-align: top;\n",
       "    }\n",
       "\n",
       "    .dataframe thead th {\n",
       "        text-align: right;\n",
       "    }\n",
       "</style>\n",
       "<table border=\"1\" class=\"dataframe\">\n",
       "  <thead>\n",
       "    <tr style=\"text-align: right;\">\n",
       "      <th></th>\n",
       "      <th>Unnamed: 0</th>\n",
       "      <th>Codigo</th>\n",
       "      <th>Nome</th>\n",
       "      <th>Preco R$</th>\n",
       "      <th>VolumeMedio</th>\n",
       "      <th>DividendYield %</th>\n",
       "      <th>PatrimonioLiq R$</th>\n",
       "      <th>P/VP</th>\n",
       "      <th>Cotas</th>\n",
       "      <th>Segmento</th>\n",
       "      <th>Valorizacao12Meses</th>\n",
       "    </tr>\n",
       "  </thead>\n",
       "  <tbody>\n",
       "    <tr>\n",
       "      <th>0</th>\n",
       "      <td>Qualitativa Ordinal</td>\n",
       "      <td>Qualitativa Ordinal</td>\n",
       "      <td>Qualitativa Ordinal</td>\n",
       "      <td>Qualitativa Ordinal</td>\n",
       "      <td>Quantitativa Contínua</td>\n",
       "      <td>Qualitativa Ordinal</td>\n",
       "      <td>Qualitativa Ordinal</td>\n",
       "      <td>Qualitativa Ordinal</td>\n",
       "      <td>Qualitativa Ordinal</td>\n",
       "      <td>Qualitativa Nominal</td>\n",
       "      <td>Quantitativa Contínua</td>\n",
       "    </tr>\n",
       "  </tbody>\n",
       "</table>\n",
       "</div>"
      ],
      "text/plain": [
       "            Unnamed: 0               Codigo                 Nome   \n",
       "0  Qualitativa Ordinal  Qualitativa Ordinal  Qualitativa Ordinal  \\\n",
       "\n",
       "              Preco R$            VolumeMedio      DividendYield %   \n",
       "0  Qualitativa Ordinal  Quantitativa Contínua  Qualitativa Ordinal  \\\n",
       "\n",
       "      PatrimonioLiq R$                 P/VP                Cotas   \n",
       "0  Qualitativa Ordinal  Qualitativa Ordinal  Qualitativa Ordinal  \\\n",
       "\n",
       "              Segmento     Valorizacao12Meses  \n",
       "0  Qualitativa Nominal  Quantitativa Contínua  "
      ]
     },
     "execution_count": 3,
     "metadata": {},
     "output_type": "execute_result"
    }
   ],
   "source": [
    "\n",
    "Dataset = pd.DataFrame(columns=fiis.columns)\n",
    "\n",
    "for coluna in fiis.columns:\n",
    "    tipo_dado = fiis[coluna].dtype\n",
    "    unique_values = fiis[coluna].nunique()\n",
    "\n",
    "    if tipo_dado in ['int64', 'float64']:\n",
    "        if unique_values <= 10:\n",
    "            Dataset.loc[0, coluna] = 'Quantitativa Discreta'\n",
    "        else:\n",
    "            Dataset.loc[0, coluna] = 'Quantitativa Contínua'\n",
    "    else:\n",
    "        if unique_values <= 10:\n",
    "            Dataset.loc[0, coluna] = 'Qualitativa Nominal'\n",
    "        else:\n",
    "            Dataset.loc[0, coluna] = 'Qualitativa Ordinal'\n",
    "\n",
    "Dataset"
   ]
  },
  {
   "cell_type": "markdown",
   "id": "78792baf-97bd-4f56-b6b7-171f1c3cb174",
   "metadata": {},
   "source": [
    "__2) Com o mesmo dataset, construir a distribuição de probabilidade de uma feature com valores inteiros. Escrever uma função para calcular a Esperança e outra função para calcular a Variância dessa variável aleatória. Compare o resultado de sua função com os resultados de alguma nativa do Python (há muitos módulos/bibliotecas que calculam esses parâmetros). Calcule a Esperança e a Variância da variável aleatória da distribuição de probabilidade. Construa uma função que faça o papel da cdf() e outra função com o papel da sf(). Desafio extra: construir funções que fazem o papel da ppf() e da isf() .__'.f'."
   ]
  },
  {
   "cell_type": "code",
   "execution_count": 4,
   "id": "af203ddd-6358-49e6-bf90-84743fbb1bb4",
   "metadata": {},
   "outputs": [
    {
     "data": {
      "image/png": "[encoded data removed]",
      "text/plain": [
       "<Figure size 640x480 with 1 Axes>"
      ]
     },
     "metadata": {},
     "output_type": "display_data"
    }
   ],
   "source": [
    "\n",
    "def distribuicao_probabilidade(coluna):\n",
    "    valores = fiis[coluna].value_counts(normalize=True)\n",
    "    valores = valores.sort_index()\n",
    "    valores.plot(kind='bar')\n",
    "    plt.xlabel(coluna)\n",
    "    plt.ylabel('Probabilidade')\n",
    "    plt.title('Distribuição de Probabilidade de ' + coluna)\n",
    "    plt.show()\n",
    "\n",
    "distribuicao_probabilidade('DividendYield %')"
   ]
  },
  {
   "cell_type": "code",
   "execution_count": 6,
   "id": "53e5f2c8",
   "metadata": {},
   "outputs": [
    {
     "name": "stdout",
     "output_type": "stream",
     "text": [
      "à responsta da da função é:  0.5521367521367522\n",
      "a esperança é:  0.5521367521367522\n",
      "a variância é:  0.06813645993133173\n"
     ]
    }
   ],
   "source": [
    "def esperanca(coluna):\n",
    "    valores = fiis[coluna].value_counts(normalize=True)\n",
    "    esperanca = 0\n",
    "    for idx, val in valores.items():\n",
    "        idx_numeric = float(idx.replace(',', '.')) \n",
    "        esperanca += idx_numeric * val\n",
    "    return esperanca\n",
    "\n",
    "\n",
    "\n",
    "print('à responsta da da função é: ', esperanca('DividendYield %'))\n",
    "\n",
    "valores = fiis['DividendYield %'].str.replace(',', '.').astype(float)\n",
    "\n",
    "esperanca = valores.mean()\n",
    "\n",
    "print('a esperança é: ', esperanca)\n",
    "\n",
    "\n",
    "def variancia(coluna):\n",
    "    valores = fiis[coluna].value_counts(normalize=True)\n",
    "    variancia = 0\n",
    "    for idx, val in valores.items():\n",
    "        idx_numeric = float(idx.replace(',', '.')) \n",
    "        variancia += (idx_numeric - esperanca) ** 2 * val\n",
    "    return variancia\n",
    "\n",
    "variancia = variancia('DividendYield %')\n",
    "\n",
    "print('a variância é: ', variancia)"
   ]
  },
  {
   "cell_type": "code",
   "execution_count": 8,
   "id": "297b413e",
   "metadata": {},
   "outputs": [
    {
     "name": "stdout",
     "output_type": "stream",
     "text": [
      "o cdf de 1% é:  0.9491525423728814\n",
      "o sf de 1% é:  0.0423728813559322\n"
     ]
    }
   ],
   "source": [
    "\n",
    "def cdf(x, data):\n",
    "    return (data <= x).mean()\n",
    "\n",
    "def sf(x, data):\n",
    "    return (data > x).mean()\n",
    "\n",
    "print('o cdf de 1% é: ', cdf(1, valores))\n",
    "print('o sf de 1% é: ', sf(1, valores))  "
   ]
  },
  {
   "cell_type": "markdown",
   "id": "6821c75f-1bd1-4911-a71f-a9802a85203c",
   "metadata": {},
   "source": [
    " __3) Utilizando a variável aleatória do exercício anterior, construir a distribuição das médias amostrais para ilustrar/comprovar o Teorema do Limite Central. Comparar a média e a variância com o exercício anterior. Utilizar o teste de normalidade para verificar se essa distribuição (das médias amostrais) é normal ou  não.__\n"
   ]
  },
  {
   "cell_type": "code",
   "execution_count": 8,
   "id": "7f7e1854-6d31-43d2-9751-a7feaa93b3c6",
   "metadata": {},
   "outputs": [
    {
     "name": "stdout",
     "output_type": "stream",
     "text": [
      "variancia  0.06813645993133173\n",
      "esperanca  0.5521367521367522\n",
      "medias_amostrais  [0.023125, 0.0196875, 0.016875, 0.02375, 0.01375, 0.0140625, 0.0325, 0.0071875, 0.0215625, 0.005625, 0.0153125, 0.0140625, 0.0, 0.0121875, 0.029375, 0.0203125, 0.018125, 0.021875, 0.01, 0.0215625, 0.014375, 0.0225, 0.0209375, 0.0, 0.0278125, 0.01875, 0.0203125, 0.005625, 0.01375, 0.019375, 0.015625, 0.0325]\n",
      "média amostral:  0.017265625\n",
      "variância amostral:  6.3653564453125e-05\n",
      "NormaltestResult(statistic=0.5862047568346828, pvalue=0.7459457680406778)\n"
     ]
    },
    {
     "data": {
      "image/png": "[encoded data removed]",
      "text/plain": [
       "<Figure size 640x480 with 1 Axes>"
      ]
     },
     "metadata": {},
     "output_type": "display_data"
    }
   ],
   "source": [
    "\n",
    "print('variancia ', variancia)\n",
    "print('esperanca ', esperanca)\n",
    "\n",
    "# Utilizando a variável aleatória do exercício anterior, construir a distribuição das médias amostrais usando nunpy para ilustrar/comprovar o Teorema do Limite Central. Comparar a média e a variância com o exercício anterior. Utilizar o teste de normalidade para verificar se essa distribuição (das médias amostrais) é normal ou  não.__\n",
    "\n",
    "medias_amostrais = []\n",
    "amostra = random.choices(valores, k=32)\n",
    "for i in range(32):\n",
    "    medias_amostrais.append(amostra[i]/ 32)\n",
    "\n",
    "print(\"medias_amostrais \", medias_amostrais)\n",
    "   \n",
    "\n",
    "medias_amostrais = np.array(medias_amostrais)\n",
    "\n",
    "sns.histplot(medias_amostrais, kde=True)\n",
    "\n",
    "media_amostral = medias_amostrais.mean()\n",
    "\n",
    "variancia_amostral = medias_amostrais.var()\n",
    "\n",
    "print('média amostral: ', media_amostral)\n",
    "\n",
    "print('variância amostral: ', variancia_amostral)\n",
    "\n",
    "print(stats.normaltest(medias_amostrais))\n",
    "\n",
    "\n",
    "\n",
    "\n"
   ]
  },
  {
   "cell_type": "code",
   "execution_count": 9,
   "id": "66e2cd39",
   "metadata": {},
   "outputs": [
    {
     "name": "stdout",
     "output_type": "stream",
     "text": [
      "a distribuição das médias amostrais é normal\n"
     ]
    }
   ],
   "source": [
    "\n",
    "_, p = stats.normaltest(medias_amostrais)\n",
    "\n",
    "\n",
    "if p > 0.05:\n",
    "    print('a distribuição das médias amostrais é normal')\n",
    "if p <= 0.05:\n",
    "    print('a distribuição das médias amostrais não é normal')"
   ]
  },
  {
   "cell_type": "markdown",
   "id": "5c030222-2f5b-4d30-a7d5-d50553295dbc",
   "metadata": {},
   "source": [
    "__4) No exercício anterior, construir o intervalo de confiança para a média, com nível de confiança de 95% e erro percentual de 2% (para cima ou para baixo).__"
   ]
  },
  {
   "cell_type": "code",
   "execution_count": 63,
   "id": "3f0debdc-9ce4-4659-acee-b0f61e1300f3",
   "metadata": {},
   "outputs": [
    {
     "name": "stdout",
     "output_type": "stream",
     "text": [
      "novas_medias  [0.83, 0.67, 0.73, 0.23, 0.51, 0.67, 0.68, 0.4, 0.23, 0.79, 0.96, 0.23, 0.18, 0.74, 0.0, 0.64, 0.48, 0.66, 0.56, 0.69, 0.59, 0.34, 0.0, 0.7, 0.6, 0.69, 0.96, 0.62, 0.57, 0.67, 0.3, 0.76, 0.0, 0.6, 0.62, 0.57, 0.23, 0.54, 0.23, 0.75, 0.44, 0.48, 0.51, 0.44, 0.18, 0.69, 0.23, 0.52, 0.72, 0.62, 0.62, 0.65, 0.0, 0.55, 0.47, 0.7, 0.6, 0.71, 0.57, 0.83, 0.79, 0.56, 0.48, 0.47, 0.55, 0.83, 0.83, 0.5, 0.94, 0.68, 0.3, 0.61, 0.71, 0.64, 0.69, 0.55, 0.71, 0.88, 0.0, 0.71, 0.56, 0.64, 0.0, 0.7, 0.72, 1.04, 0.68, 0.51, 0.69, 0.47, 0.0, 0.44, 0.83, 0.45, 0.44, 0.47, 0.77, 0.46, 0.0, 0.62]\n",
      "uo  0.5521367521367522\n",
      "média:  0.5467\n",
      "intervalo de confiança:  0.5439357045052294 0.5494642954947705\n",
      "o erro percentual é  -0.9846749226006323\n"
     ]
    }
   ],
   "source": [
    "from scipy.stats import norm\n",
    "\n",
    "\n",
    "novas_medias = random.choices(valores, k=100)\n",
    "\n",
    "n = len(medias_amostrais)\n",
    "uo = valores.mean()\n",
    "\n",
    "alpha = 0.05\n",
    "Zc = norm.isf(alpha/2)\n",
    "\n",
    "\n",
    "\n",
    "print('novas_medias ', novas_medias)\n",
    "print('uo ', uo)\n",
    "media = pd.Series(novas_medias).mean()\n",
    "desvio_padrao = medias_amostrais.std()\n",
    "z = 1.96\n",
    "\n",
    "inferior = media - Zc * desvio_padrao / n ** .5\n",
    "\n",
    "superior = media + Zc * desvio_padrao / n ** .5\n",
    "\n",
    "erro_percentual =  ((media - uo) / uo) * 100\n",
    "\n",
    "print('média: ', media)\n",
    "\n",
    "print('intervalo de confiança: ', inferior, superior)\n",
    "\n",
    "print('o erro percentual é ', erro_percentual)  \n",
    "\n",
    "\n",
    "\n"
   ]
  },
  {
   "cell_type": "markdown",
   "id": "392df3d6-08a7-4cdf-9fd5-d7745640f834",
   "metadata": {},
   "source": [
    "__5) Se uma amostra de tamanho 30, vinda da variável aleatória do exercício 2), tiver uma média 10% maior que a média da população, a hipótese de que essas médias são iguais seria rejeitada ou não rejeitada, com um nível de confiança de 95%? (faça o teste de hipótese para responder essa pergunta. Utilize os desvio padrão populacional).__\n"
   ]
  },
  {
   "cell_type": "code",
   "execution_count": 75,
   "id": "93705003-66f9-4b4c-88a5-33e3caa36799",
   "metadata": {},
   "outputs": [
    {
     "name": "stdout",
     "output_type": "stream",
     "text": [
      "media 30 valores 0.5813793103448276\n",
      "uo 0.5521367521367522\n",
      "intervalo de confiança:  0.48757102825168464 0.6751875924379706\n",
      "não rejeitada\n"
     ]
    }
   ],
   "source": [
    "amostra_30valores = random.choices(valores, k=30)\n",
    "media_30Valores = pd.Series(amostra_30valores).mean()\n",
    "\n",
    "print('media 30 valores', media_30Valores)\n",
    "print('uo', uo)\n",
    "\n",
    "n = 30\n",
    "alpha = 0.05\n",
    "Zc = norm.isf(alpha/2)\n",
    "media = pd.Series(amostra_30valores).mean()\n",
    "desvio_padrao = valores.std()\n",
    "z = 1.96\n",
    "\n",
    "inferior = media - Zc * desvio_padrao / n ** .5\n",
    "superior = media + Zc * desvio_padrao / n ** .5\n",
    "\n",
    "print('intervalo de confiança: ', inferior, superior)\n",
    "\n",
    "if(uo >= inferior and uo <= superior): # se a média da população está dentro do intervalo de confiança da amostra\n",
    "    print('Hipotese não rejeitada')\n",
    "else:\n",
    "    print('Hipotese rejeitada')\n",
    "\n",
    "\n"
   ]
  }
 ],
 "metadata": {
  "kernelspec": {
   "display_name": "Python 3 (ipykernel)",
   "language": "python",
   "name": "python3"
  },
  "language_info": {
   "codemirror_mode": {
    "name": "ipython",
    "version": 3
   },
   "file_extension": ".py",
   "mimetype": "text/x-python",
   "name": "python",
   "nbconvert_exporter": "python",
   "pygments_lexer": "ipython3",
   "version": "3.10.12"
  }
 },
 "nbformat": 4,
 "nbformat_minor": 5
}
